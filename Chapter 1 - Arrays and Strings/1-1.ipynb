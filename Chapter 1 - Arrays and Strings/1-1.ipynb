{
 "cells": [
  {
   "cell_type": "markdown",
   "metadata": {},
   "source": [
    "#### 1.1 Implement an algorithm to determine if a string has all unique characters. What if you can not use additional data structures?\n",
    "- a) Using additional data structures: This technique uses additional memory. Thus the space complexity is of the order of O(n)"
   ]
  },
  {
   "cell_type": "code",
   "execution_count": 3,
   "metadata": {},
   "outputs": [],
   "source": [
    "# Function to check if a string has only unique characters\n",
    "# Returns true if unique, false otherwise\n",
    "def check_for_unique_with_dict(s):\n",
    "    \n",
    "    # Dictionary to store the unique characters\n",
    "    unique_characters = dict()\n",
    "    \n",
    "    # Interating over every character in the string \n",
    "    # and storing it in the dictionary (hashmap)\n",
    "    for char in s:\n",
    "        # Check if the character is a key in the dictionary\n",
    "        if char in unique_characters:\n",
    "            # if the key exists it means we have encountered a duplicate\n",
    "            # return false in this case\n",
    "            return False\n",
    "        else:\n",
    "            # If the character does not exist in the dict\n",
    "            # create an entry with any value\n",
    "            unique_characters[char] = 0\n",
    "            \n",
    "    # If we reach here, it means there are no character duplicates\n",
    "    return True"
   ]
  },
  {
   "cell_type": "markdown",
   "metadata": {},
   "source": [
    "- b) Without using additional data structures of order n: This technique uses <b>constant</b> additional memory. Thus the space complexity is of the order of O(1)"
   ]
  },
  {
   "cell_type": "code",
   "execution_count": 8,
   "metadata": {},
   "outputs": [],
   "source": [
    "def check_for_unique_without_dict(s):\n",
    "    # Let us assume that the all the characters in the string\n",
    "    # can be represnted in ascii\n",
    "    ascii_dict = dict()\n",
    "    \n",
    "    # Initializing the ascii dictionary to only allow characters in \n",
    "    # ascii set\n",
    "    # This restricts the space complexity to a constant number - 256\n",
    "    for i in range(256):\n",
    "        ascii_dict[i] = False\n",
    "        \n",
    "    # Repeating checks for each character as we did in part (a)\n",
    "    for char in s:\n",
    "        if ascii_dict[ord(char)] == True:\n",
    "             return False\n",
    "        else:\n",
    "            ascii_dict[ord(char)] = True\n",
    "    \n",
    "    return True"
   ]
  },
  {
   "cell_type": "markdown",
   "metadata": {},
   "source": [
    "##### Let us write some tests:"
   ]
  },
  {
   "cell_type": "code",
   "execution_count": 13,
   "metadata": {},
   "outputs": [
    {
     "name": "stdout",
     "output_type": "stream",
     "text": [
      "All checks for part a have passed\n",
      "All checks for part b have passed\n"
     ]
    }
   ],
   "source": [
    "def tester(check_string, input_strings, outputs):\n",
    "\n",
    "    for input_, output_ in zip(input_strings, outputs):\n",
    "        if check_string(input_) != output_:\n",
    "            return False\n",
    "    return True\n",
    "    \n",
    "\n",
    "\n",
    "input_strings = [\"Hello\", \"Helo\", \"This is a new day!\", \"No duplicates\", \"   \", \"\", \"coMpUteRs\"]\n",
    "outputs = [False, True, False, True, False, True, True]\n",
    "\n",
    "if tester(check_for_unique_with_dict, input_strings, outputs) == True:\n",
    "    print(\"All checks for part a have passed\")\n",
    "else:\n",
    "    print(\"Checks for part a failed\")\n",
    "\n",
    "if tester(check_for_unique_without_dict, input_strings, outputs) == True:\n",
    "    print(\"All checks for part b have passed\")\n",
    "else:\n",
    "    print(\"Checks for part b failed\")"
   ]
  },
  {
   "cell_type": "code",
   "execution_count": null,
   "metadata": {},
   "outputs": [],
   "source": []
  }
 ],
 "metadata": {
  "kernelspec": {
   "display_name": "Python 3",
   "language": "python",
   "name": "python3"
  },
  "language_info": {
   "codemirror_mode": {
    "name": "ipython",
    "version": 3
   },
   "file_extension": ".py",
   "mimetype": "text/x-python",
   "name": "python",
   "nbconvert_exporter": "python",
   "pygments_lexer": "ipython3",
   "version": "3.7.0"
  }
 },
 "nbformat": 4,
 "nbformat_minor": 2
}
