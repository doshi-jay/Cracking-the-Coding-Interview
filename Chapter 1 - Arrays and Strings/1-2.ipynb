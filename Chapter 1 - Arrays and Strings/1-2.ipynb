{
 "cells": [
  {
   "cell_type": "markdown",
   "metadata": {},
   "source": [
    "#### 1.2 Write code to reverse a C-Style String. (C-String means that “abcd” is represented as five characters, including the null character.)"
   ]
  },
  {
   "cell_type": "code",
   "execution_count": 7,
   "metadata": {},
   "outputs": [],
   "source": [
    "\n",
    "def reverse_using_new_string(s):\n",
    "    '''\n",
    "    We can just use python tricks to solve it in 2 lines as follows\n",
    "    \n",
    "    s = s[::-1]\n",
    "    \n",
    "    We know that the last character in s in null, but after our earlier\n",
    "    reverse it is not in the front, so let us put it at the back again.\n",
    "    \n",
    "    s.append(s.pop(len(s) - 1))\n",
    "    \n",
    "    Returning this string would give us the solution.\n",
    "    \n",
    "    But while reversing, behind the scenes there is new string being created\n",
    "    and assigned to s again. This makes our space complexity O(n).\n",
    "    \n",
    "    Let us try to reverse it in constant memory, i.e. in-place.\n",
    "    \n",
    "    \n",
    "    # We use 2 pointers, start and end. One moves forward and the\n",
    "    # other moves backward\n",
    "    \n",
    "    # Initializing the pointers\n",
    "    start = 0\n",
    "    \n",
    "    # Ignoring the null character as it is supposed to be last\n",
    "    end = len(s) - 2\n",
    "    \n",
    "    while start < end:\n",
    "        # Interchanging the characters\n",
    "        temp = s[end]\n",
    "        s[end] = s[start]\n",
    "        s[start] = temp\n",
    "        \n",
    "        \n",
    "        # Move pointers\n",
    "        start += 1\n",
    "        end -= 1\n",
    "        \n",
    "    The above logic would work for languages in which strings are mutable\n",
    "    ''' \n",
    "        "
   ]
  }
 ],
 "metadata": {
  "kernelspec": {
   "display_name": "Python 3",
   "language": "python",
   "name": "python3"
  },
  "language_info": {
   "codemirror_mode": {
    "name": "ipython",
    "version": 3
   },
   "file_extension": ".py",
   "mimetype": "text/x-python",
   "name": "python",
   "nbconvert_exporter": "python",
   "pygments_lexer": "ipython3",
   "version": "3.7.0"
  }
 },
 "nbformat": 4,
 "nbformat_minor": 2
}
