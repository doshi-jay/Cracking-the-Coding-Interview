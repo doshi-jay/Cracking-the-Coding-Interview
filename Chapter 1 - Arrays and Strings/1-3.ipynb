{
 "cells": [
  {
   "cell_type": "markdown",
   "metadata": {},
   "source": [
    "#### 1.3 Design an algorithm and write code to remove the duplicate characters in a string without using any additional buffer. \n",
    "##### NOTE: One or two additional variables are fine. An extra copy of the array is not.\n",
    "\n",
    "#### FOLLOW UP : Write the test cases for this method."
   ]
  },
  {
   "cell_type": "code",
   "execution_count": 1,
   "metadata": {},
   "outputs": [],
   "source": [
    "# There can be several solutions using O(N*N) time complexity with using just one or two additional variables. \n",
    "# The solution is similar 1.1 - Detecting if a string has all unique characters."
   ]
  },
  {
   "cell_type": "code",
   "execution_count": 2,
   "metadata": {},
   "outputs": [],
   "source": [
    "# Let us look at solutions which use constant additional memory irrespective of the input.\n",
    "from collections import defaultdict\n",
    "\n",
    "def remove_duplicates(s):\n",
    "    asciis_present = defaultdict(int)\n",
    "    s = list(s)\n",
    "    \n",
    "    index = 0\n",
    "    \n",
    "    while index < len(s):\n",
    "        if asciis_present[ord(s[index])] == 0:\n",
    "            asciis_present[ord(s[index])] = 1\n",
    "        else:\n",
    "            s[index] = \"\"\n",
    "        \n",
    "        index += 1\n",
    "        \n",
    "    return ''.join(s)"
   ]
  },
  {
   "cell_type": "code",
   "execution_count": 4,
   "metadata": {},
   "outputs": [
    {
     "name": "stdout",
     "output_type": "stream",
     "text": [
      "All checks for part a have passed\n"
     ]
    }
   ],
   "source": [
    "def tester(function, input_strings, outputs):\n",
    "    for input_, output_ in zip(input_strings, outputs):\n",
    "        if function(input_) != output_:\n",
    "            return False\n",
    "    return True\n",
    "    \n",
    "\n",
    "\n",
    "input_strings = [\"abcdabcd\", \"abcdabcdabcd\", \"abcaaaaaaabbbbbbbbcccccccccc\", \"\", \"   \", \"coMpUteRs\"]\n",
    "outputs = [\"abcd\", \"abcd\", \"abc\", \"\", \" \", \"coMpUteRs\"]\n",
    "\n",
    "if tester(remove_duplicates, input_strings, outputs) == True:\n",
    "    print(\"All checks for part a have passed\")\n",
    "else:\n",
    "    print(\"Checks for part a failed\")"
   ]
  }
 ],
 "metadata": {
  "kernelspec": {
   "display_name": "Python 3",
   "language": "python",
   "name": "python3"
  },
  "language_info": {
   "codemirror_mode": {
    "name": "ipython",
    "version": 3
   },
   "file_extension": ".py",
   "mimetype": "text/x-python",
   "name": "python",
   "nbconvert_exporter": "python",
   "pygments_lexer": "ipython3",
   "version": "3.7.0"
  }
 },
 "nbformat": 4,
 "nbformat_minor": 2
}
