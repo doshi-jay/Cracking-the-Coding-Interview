{
 "cells": [
  {
   "cell_type": "markdown",
   "metadata": {},
   "source": [
    "# 1.4 Write a method to decide if two strings are anagrams or not."
   ]
  },
  {
   "cell_type": "code",
   "execution_count": 1,
   "metadata": {},
   "outputs": [],
   "source": [
    "# For 2 strings to be anagrams of each other, we must be able to create the second string by simply \n",
    "# rearranging the characters of the first string"
   ]
  },
  {
   "cell_type": "markdown",
   "metadata": {},
   "source": [
    "##### Solution 1: Sorting the 2 strings and checking if they are the same"
   ]
  },
  {
   "cell_type": "code",
   "execution_count": 2,
   "metadata": {},
   "outputs": [],
   "source": [
    "def check_anagrams_sorting(a, b):\n",
    "    return sorted(a) == sorted(b)"
   ]
  },
  {
   "cell_type": "markdown",
   "metadata": {},
   "source": [
    "#### Solution 2: Maintain a constant memory that can keep track of the characters and their counts for both the strings  "
   ]
  },
  {
   "cell_type": "code",
   "execution_count": 3,
   "metadata": {},
   "outputs": [],
   "source": [
    "from collections import defaultdict\n",
    "import numpy as np\n",
    "\n",
    "def check_anagrams_constant_memory(a, b):\n",
    "    asciis_present = defaultdict(int)\n",
    "    \n",
    "    if len(a) != len(b):\n",
    "        return False\n",
    "    \n",
    "    for char_a, char_b in zip(a, b):\n",
    "        asciis_present[ord(char_a)] = asciis_present[ord(char_a)] + 1\n",
    "        asciis_present[ord(char_b)] = asciis_present[ord(char_b)] - 1\n",
    "        \n",
    "    for i in list(asciis_present.values()):\n",
    "        if i != 0:\n",
    "            return False\n",
    "    return True"
   ]
  },
  {
   "cell_type": "code",
   "execution_count": 4,
   "metadata": {},
   "outputs": [
    {
     "name": "stdout",
     "output_type": "stream",
     "text": [
      "All checks for part a have passed\n",
      "All checks for part b have passed\n"
     ]
    }
   ],
   "source": [
    "def tester(function, input_strings, outputs):\n",
    "    for input_, output_ in zip(input_strings, outputs):\n",
    "        if function(input_[0], input_[1]) != output_:\n",
    "            return False\n",
    "    return True\n",
    "    \n",
    "\n",
    "\n",
    "inputs = [(\"SILENT\", \"LISTEN\"), (\"TRIANGLE\", \"INTEGRAL\"), (\"\", \"\"), (\"   \", \" \"), (\"   \", \"   \"), (\"coMpUteRs\", \"COMPUTERS\")]\n",
    "outputs = [True, True, True, False, True, False]\n",
    "\n",
    "if tester(check_anagrams_constant_memory, inputs, outputs) == True:\n",
    "    print(\"All checks for part a have passed\")\n",
    "else:\n",
    "    print(\"Checks for part a failed\")\n",
    "    \n",
    "if tester(check_anagrams_sorting, inputs, outputs) == True:\n",
    "    print(\"All checks for part b have passed\")\n",
    "else:\n",
    "    print(\"Checks for part a failed\")"
   ]
  }
 ],
 "metadata": {
  "kernelspec": {
   "display_name": "Python 3",
   "language": "python",
   "name": "python3"
  },
  "language_info": {
   "codemirror_mode": {
    "name": "ipython",
    "version": 3
   },
   "file_extension": ".py",
   "mimetype": "text/x-python",
   "name": "python",
   "nbconvert_exporter": "python",
   "pygments_lexer": "ipython3",
   "version": "3.7.0"
  }
 },
 "nbformat": 4,
 "nbformat_minor": 2
}
