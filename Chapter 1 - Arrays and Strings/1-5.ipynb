{
 "cells": [
  {
   "cell_type": "markdown",
   "metadata": {},
   "source": [
    "# 1.5 Write a method to replace all spaces in a string with ‘%20’. "
   ]
  },
  {
   "cell_type": "code",
   "execution_count": 1,
   "metadata": {},
   "outputs": [],
   "source": [
    "def string_replace(s):\n",
    "    # Let us first split the string based on \" \"\n",
    "    s = s.split(\" \")\n",
    "    new_s = \"\"\n",
    "    \n",
    "    # Now for each element in the list s, we add it to the strin and add an '%20' at the end\n",
    "    for i in s:\n",
    "        new_s += i + \"%20\"\n",
    "        \n",
    "    # This slice ignores the '%20' that has been appended after the last element\n",
    "    return new_s[: len(new_s) - 3]\n",
    "        "
   ]
  },
  {
   "cell_type": "code",
   "execution_count": 2,
   "metadata": {},
   "outputs": [
    {
     "data": {
      "text/plain": [
       "'a%20%20%20b%20c%20dd%20ddd%20'"
      ]
     },
     "execution_count": 2,
     "metadata": {},
     "output_type": "execute_result"
    }
   ],
   "source": [
    "string_replace(\"a   b c dd ddd \")"
   ]
  }
 ],
 "metadata": {
  "kernelspec": {
   "display_name": "Python 3",
   "language": "python",
   "name": "python3"
  },
  "language_info": {
   "codemirror_mode": {
    "name": "ipython",
    "version": 3
   },
   "file_extension": ".py",
   "mimetype": "text/x-python",
   "name": "python",
   "nbconvert_exporter": "python",
   "pygments_lexer": "ipython3",
   "version": "3.7.0"
  }
 },
 "nbformat": 4,
 "nbformat_minor": 2
}
