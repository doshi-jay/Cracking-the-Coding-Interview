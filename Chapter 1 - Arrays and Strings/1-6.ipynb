{
 "cells": [
  {
   "cell_type": "markdown",
   "metadata": {},
   "source": [
    "# 1.6 Given an image represented by an NxN matrix, where each pixel in the image is 4 bytes, write a method to rotate the image by 90 degrees. Can you do this in place?"
   ]
  },
  {
   "cell_type": "code",
   "execution_count": 1,
   "metadata": {},
   "outputs": [],
   "source": [
    "def rotate_matrix(mat):\n",
    "    \n",
    "    n = len(mat)\n",
    "    for i in range(int(n/2)):\n",
    "        for j in range(i, len(mat) - 1 - i):\n",
    "            \n",
    "            temp = mat[i][j]\n",
    "            mat[i][j] = mat[n-1-j][i]\n",
    "            mat[n-1-j][i] = mat[n-1-i][n-1-j]\n",
    "            mat[n-1-i][n-1-j] = mat[j][n-1-i]\n",
    "            mat[j][n-1-i] = temp\n",
    "        \n",
    "    print(mat)\n",
    "            "
   ]
  },
  {
   "cell_type": "code",
   "execution_count": 2,
   "metadata": {},
   "outputs": [
    {
     "name": "stdout",
     "output_type": "stream",
     "text": [
      "[[13, 9, 5, 1], [14, 10, 6, 2], [15, 11, 7, 3], [16, 12, 8, 4]]\n"
     ]
    }
   ],
   "source": [
    "rotate_matrix([[1,2,3,4], [5,6, 7, 8], [9, 10,11 ,12], [13,14,15,16]])"
   ]
  },
  {
   "cell_type": "code",
   "execution_count": 3,
   "metadata": {},
   "outputs": [
    {
     "name": "stdout",
     "output_type": "stream",
     "text": [
      "[[21, 16, 11, 6, 1], [22, 17, 12, 7, 2], [23, 18, 13, 8, 3], [24, 19, 14, 9, 4], [25, 20, 15, 10, 5]]\n"
     ]
    }
   ],
   "source": [
    "rotate_matrix([[1,2,3,4, 5], [6, 7, 8, 9, 10], [11 ,12, 13,14,15], [16, 17,18, 19,20], [21,22,23,24,25]])"
   ]
  },
  {
   "cell_type": "code",
   "execution_count": null,
   "metadata": {},
   "outputs": [],
   "source": []
  }
 ],
 "metadata": {
  "kernelspec": {
   "display_name": "Python 3",
   "language": "python",
   "name": "python3"
  },
  "language_info": {
   "codemirror_mode": {
    "name": "ipython",
    "version": 3
   },
   "file_extension": ".py",
   "mimetype": "text/x-python",
   "name": "python",
   "nbconvert_exporter": "python",
   "pygments_lexer": "ipython3",
   "version": "3.7.0"
  }
 },
 "nbformat": 4,
 "nbformat_minor": 2
}
