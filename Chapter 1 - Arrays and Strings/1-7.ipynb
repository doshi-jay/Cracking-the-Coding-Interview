{
 "cells": [
  {
   "cell_type": "markdown",
   "metadata": {},
   "source": [
    "# 1.7 Write an algorithm such that if an element in an MxN matrix is 0, its entire row and column is set to 0."
   ]
  },
  {
   "cell_type": "code",
   "execution_count": 1,
   "metadata": {},
   "outputs": [],
   "source": [
    "# Let us talk about doing it in-place. The problem is everytime you encounter a 0, you set the row and column 0. As a result,\n",
    "# when the newly set 0's are encountered they would make the cells of the entire resultant matrix as 0.\n",
    "\n",
    "# To avoid this, we can make a new matrix of dimensions M x N. Whenever we encounter a 0 in the original matrix we can set the\n",
    "# row and column of the new matrix as 0. But this leads to a space complexity of O(MN), which is too high."
   ]
  },
  {
   "cell_type": "code",
   "execution_count": 2,
   "metadata": {},
   "outputs": [],
   "source": [
    "# Let us try to do it in space M and N, i.e. O(M) + O(N)."
   ]
  },
  {
   "cell_type": "code",
   "execution_count": 3,
   "metadata": {},
   "outputs": [],
   "source": [
    "# Let mat be the matrix with dimensions as M x N\n",
    "\n",
    "from collections import defaultdict\n",
    "\n",
    "def set_row_col_zero(mat):    \n",
    "    \n",
    "    # Linear memory dictionaries to store positions at which \n",
    "    # rows and columns are 0\n",
    "    row = defaultdict(int)\n",
    "    col = defaultdict(int)\n",
    "    \n",
    "    # Set the position in row and col dictionaries as 1 where \n",
    "    # mat[i][j] is 0\n",
    "    for i in range(len(mat)):\n",
    "        for j in range(len(mat[0])):\n",
    "            if mat[i][j] == 0:\n",
    "                row[i] = 1 \n",
    "                col[j] = 1\n",
    "                \n",
    "    for i in range(len(mat)):\n",
    "        for j in range(len(mat[0])):\n",
    "            # If the cell belongs to a row or column that must\n",
    "            # be 0, then set it 0\n",
    "            if row[i] == 1 or col[j] == 1:\n",
    "                mat[i][j] = 0\n",
    "                \n",
    "    return mat"
   ]
  },
  {
   "cell_type": "code",
   "execution_count": 4,
   "metadata": {},
   "outputs": [
    {
     "name": "stdout",
     "output_type": "stream",
     "text": [
      "[[1, 0, 3], [0, 0, 0], [7, 0, 9]]\n"
     ]
    }
   ],
   "source": [
    "mat = [[1, 2, 3], [4, 0, 6], [7, 8, 9]]\n",
    "print(set_row_col_zero(mat))"
   ]
  }
 ],
 "metadata": {
  "kernelspec": {
   "display_name": "Python 3",
   "language": "python",
   "name": "python3"
  },
  "language_info": {
   "codemirror_mode": {
    "name": "ipython",
    "version": 3
   },
   "file_extension": ".py",
   "mimetype": "text/x-python",
   "name": "python",
   "nbconvert_exporter": "python",
   "pygments_lexer": "ipython3",
   "version": "3.7.0"
  },
  "widgets": {
   "application/vnd.jupyter.widget-state+json": {
    "state": {},
    "version_major": 2,
    "version_minor": 0
   }
  }
 },
 "nbformat": 4,
 "nbformat_minor": 2
}
